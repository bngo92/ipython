{
 "metadata": {
  "name": "",
  "signature": "sha256:c2d4a857d6767757b7ea639ea3f25bfc53f21ab3d1cb6ee0e7377e6516b3289c"
 },
 "nbformat": 3,
 "nbformat_minor": 0,
 "worksheets": []
}